{
 "cells": [
  {
   "cell_type": "code",
   "execution_count": 1,
   "metadata": {},
   "outputs": [
    {
     "name": "stdout",
     "output_type": "stream",
     "text": [
      "✅ df_besoins global exporté avec 866 lignes\n"
     ]
    }
   ],
   "source": [
    "import pandas as pd\n",
    "from pathlib import Path\n",
    "\n",
    "# 📁 Définition des chemins\n",
    "PROJECT_ROOT = Path(\"..\").resolve()\n",
    "DATA_PROCESSED = PROJECT_ROOT / \"data\" / \"processed\"\n",
    "DATA_OUTPUTS = PROJECT_ROOT / \"data\" / \"outputs\"\n",
    "\n",
    "# 📄 Chargement du fichier nettoyé\n",
    "df = pd.read_csv(DATA_PROCESSED / \"processed_data.csv\")\n",
    "\n",
    "# --- 1. Besoins textuels (long format) ---\n",
    "besoin_text_cols = [\n",
    "    \"amelioration_pratiques\",\n",
    "    \"besoins_aide_evaluation\",\n",
    "    \"besoins_diversite_classe\",\n",
    "    \"besoins_competence_numerique\",\n",
    "    \"renforcement_collaboration\",\n",
    "    \"preference_accompagnement\",\n",
    "    \"besoin_dev_professionnel\"\n",
    "]\n",
    "\n",
    "df_text = df[[\"enseignant_uid\"] + besoin_text_cols].melt(\n",
    "    id_vars=\"enseignant_uid\",\n",
    "    var_name=\"question_source\",\n",
    "    value_name=\"besoin_brut\"\n",
    ")\n",
    "df_text[\"besoin_brut\"] = df_text[\"besoin_brut\"].astype(str).str.strip()\n",
    "df_text = df_text[df_text[\"besoin_brut\"] != \"\"].dropna()\n",
    "df_text[\"categorie_besoin\"] = None  # à compléter par classification\n",
    "\n",
    "# --- 2. Besoins MLF (besoin fort/faible) ---\n",
    "besoin_mlf_cols = [\n",
    "    \"besoin_formation_plurilingue\",\n",
    "    \"besoin_formation_transversales\",\n",
    "    \"besoin_formation_maternelle\",\n",
    "    \"besoin_formation_orientation\",\n",
    "    \"besoin_formation_stiam\"\n",
    "]\n",
    "\n",
    "df_mlf = df[[\"enseignant_uid\"] + besoin_mlf_cols].copy()\n",
    "df_mlf = df_mlf.melt(id_vars=\"enseignant_uid\", var_name=\"question_source\", value_name=\"besoin_brut\")\n",
    "\n",
    "# On garde uniquement les réponses « Besoin fort »\n",
    "df_mlf = df_mlf[df_mlf[\"besoin_brut\"] == \"besoin fort\"].copy()\n",
    "\n",
    "# On catégorise directement selon le thème MLF (extrait depuis le nom de colonne)\n",
    "df_mlf[\"categorie_besoin\"] = df_mlf[\"question_source\"].str.replace(\"besoin_formation_\", \"\", regex=False).str.lower()\n",
    "\n",
    "# --- 3. Fusion finale ---\n",
    "df_besoins = pd.concat([df_text, df_mlf], ignore_index=True)\n",
    "\n",
    "# 🔁 Réorganisation des colonnes\n",
    "df_besoins = df_besoins[[\"enseignant_uid\", \"question_source\", \"besoin_brut\", \"categorie_besoin\"]]\n",
    "\n",
    "# Export\n",
    "df_besoins.to_csv(DATA_OUTPUTS / \"df_besoins.csv\", index=False)\n",
    "\n",
    "# Aperçu\n",
    "print(f\"✅ df_besoins global exporté avec {df_besoins.shape[0]} lignes\")\n"
   ]
  },
  {
   "cell_type": "code",
   "execution_count": 3,
   "metadata": {},
   "outputs": [
    {
     "data": {
      "text/html": [
       "<div>\n",
       "<style scoped>\n",
       "    .dataframe tbody tr th:only-of-type {\n",
       "        vertical-align: middle;\n",
       "    }\n",
       "\n",
       "    .dataframe tbody tr th {\n",
       "        vertical-align: top;\n",
       "    }\n",
       "\n",
       "    .dataframe thead th {\n",
       "        text-align: right;\n",
       "    }\n",
       "</style>\n",
       "<table border=\"1\" class=\"dataframe\">\n",
       "  <thead>\n",
       "    <tr style=\"text-align: right;\">\n",
       "      <th></th>\n",
       "      <th>enseignant_uid</th>\n",
       "      <th>question_source</th>\n",
       "      <th>besoin_brut</th>\n",
       "      <th>categorie_besoin</th>\n",
       "    </tr>\n",
       "  </thead>\n",
       "  <tbody>\n",
       "    <tr>\n",
       "      <th>0</th>\n",
       "      <td>E0001</td>\n",
       "      <td>amelioration_pratiques</td>\n",
       "      <td>les outils informatiques et enseigner sur 3 ni...</td>\n",
       "      <td>None</td>\n",
       "    </tr>\n",
       "    <tr>\n",
       "      <th>1</th>\n",
       "      <td>E0002</td>\n",
       "      <td>amelioration_pratiques</td>\n",
       "      <td>ma capacité à enseigner dans une autre langue,...</td>\n",
       "      <td>None</td>\n",
       "    </tr>\n",
       "    <tr>\n",
       "      <th>2</th>\n",
       "      <td>E0003</td>\n",
       "      <td>amelioration_pratiques</td>\n",
       "      <td>enrichir le contenu dans certaines disciplines...</td>\n",
       "      <td>None</td>\n",
       "    </tr>\n",
       "    <tr>\n",
       "      <th>3</th>\n",
       "      <td>E0004</td>\n",
       "      <td>amelioration_pratiques</td>\n",
       "      <td>les neurosciences m'inspirent de plus en plus,...</td>\n",
       "      <td>None</td>\n",
       "    </tr>\n",
       "    <tr>\n",
       "      <th>4</th>\n",
       "      <td>E0005</td>\n",
       "      <td>amelioration_pratiques</td>\n",
       "      <td>la différenciation est un point que j'aimerais...</td>\n",
       "      <td>None</td>\n",
       "    </tr>\n",
       "  </tbody>\n",
       "</table>\n",
       "</div>"
      ],
      "text/plain": [
       "  enseignant_uid         question_source  \\\n",
       "0          E0001  amelioration_pratiques   \n",
       "1          E0002  amelioration_pratiques   \n",
       "2          E0003  amelioration_pratiques   \n",
       "3          E0004  amelioration_pratiques   \n",
       "4          E0005  amelioration_pratiques   \n",
       "\n",
       "                                         besoin_brut categorie_besoin  \n",
       "0  les outils informatiques et enseigner sur 3 ni...             None  \n",
       "1  ma capacité à enseigner dans une autre langue,...             None  \n",
       "2  enrichir le contenu dans certaines disciplines...             None  \n",
       "3  les neurosciences m'inspirent de plus en plus,...             None  \n",
       "4  la différenciation est un point que j'aimerais...             None  "
      ]
     },
     "execution_count": 3,
     "metadata": {},
     "output_type": "execute_result"
    }
   ],
   "source": [
    "df_besoins.head()"
   ]
  },
  {
   "cell_type": "code",
   "execution_count": 4,
   "metadata": {},
   "outputs": [],
   "source": [
    "from sentence_transformers import SentenceTransformer\n",
    "import os\n",
    "\n",
    "if os.path.exists(\"../models/paraphrase_multilingual\"):\n",
    "    model = SentenceTransformer(\"../models/paraphrase_multilingual\")\n",
    "else:\n",
    "    model = SentenceTransformer(\"sentence-transformers/paraphrase-multilingual-MiniLM-L12-v2\")\n",
    "    model.save(\"../models/paraphrase_multilingual\")\n"
   ]
  },
  {
   "cell_type": "code",
   "execution_count": null,
   "metadata": {},
   "outputs": [],
   "source": [
    "df_text.head(100)"
   ]
  },
  {
   "cell_type": "markdown",
   "metadata": {},
   "source": [
    "# APPROCHE TOPIC MODELING"
   ]
  },
  {
   "cell_type": "code",
   "execution_count": null,
   "metadata": {},
   "outputs": [
    {
     "name": "stdout",
     "output_type": "stream",
     "text": [
      "   Topic  Count                                        Name  \\\n",
      "0     -1    153            -1_formation_élève_besoin_classe   \n",
      "1      0     90            0_élève_pédagogique_aimer_classe   \n",
      "2      1     75        1_numérique_outil_élève_intelligence   \n",
      "3      2     51  2_temps_travail_concertation_collaboration   \n",
      "4      3     45               3_utilisation_ia_besoin_point   \n",
      "5      4     40     4_équipe_collègue_collaboration_échange   \n",
      "6      5     21       5_évaluation_élève_besoin_différencié   \n",
      "7      6     18             6_anglais_langue_langage_sortie   \n",
      "8      7     17        7_formation_présentiel_master_module   \n",
      "9      8     14                 8_cycle_inter_science_écrit   \n",
      "\n",
      "                                      Representation  \\\n",
      "0  [formation, élève, besoin, classe, apprentissa...   \n",
      "1  [élève, pédagogique, aimer, classe, gestion, b...   \n",
      "2  [numérique, outil, élève, intelligence, artifi...   \n",
      "3  [temps, travail, concertation, collaboration, ...   \n",
      "4  [utilisation, ia, besoin, point, aide, outil, ...   \n",
      "5  [équipe, collègue, collaboration, échange, dis...   \n",
      "6  [évaluation, élève, besoin, différencié, posit...   \n",
      "7  [anglais, langue, langage, sortie, réactivatio...   \n",
      "8  [formation, présentiel, master, module, qualif...   \n",
      "9  [cycle, inter, science, écrit, produire, celer...   \n",
      "\n",
      "                                 Representative_Docs  \n",
      "0  [ep mieux répondre diversité linguistique cult...  \n",
      "1  [domaine pouvoir améliorer approfondi pratique...  \n",
      "2  [jaimerer approfondir intégration outil numéri...  \n",
      "3  [temps élément cler renforcer collaboration co...  \n",
      "4  [besoin accompagnement utilisation outil facil...  \n",
      "5  [création projet interdisciplinaire équipe per...  \n",
      "6  [aujourd'hui préférer accompagnement concentre...  \n",
      "7  [trying to manage class with big number of stu...  \n",
      "8  [formation présentiel, formation présentiel, f...  \n",
      "9  [enseigner science cycle 1, penser collaborer ...  \n"
     ]
    },
    {
     "data": {
      "application/vnd.plotly.v1+json": {
       "config": {
        "plotlyServerURL": "https://plot.ly"
       },
       "data": [
        {
         "marker": {
          "color": "#D55E00"
         },
         "orientation": "h",
         "type": "bar",
         "x": [
          0.04415685390938389,
          0.046170185158415485,
          0.04788437837077776,
          0.05383711916393085,
          0.0972570958660302
         ],
         "xaxis": "x",
         "y": [
          "gestion  ",
          "classe  ",
          "aimer  ",
          "pédagogique  ",
          "élève  "
         ],
         "yaxis": "y"
        },
        {
         "marker": {
          "color": "#0072B2"
         },
         "orientation": "h",
         "type": "bar",
         "x": [
          0.04243814766918109,
          0.04243814766918109,
          0.04345774297794496,
          0.06928400930823794,
          0.1000906773906822
         ],
         "xaxis": "x2",
         "y": [
          "artificiel  ",
          "intelligence  ",
          "élève  ",
          "outil  ",
          "numérique  "
         ],
         "yaxis": "y2"
        },
        {
         "marker": {
          "color": "#CC79A7"
         },
         "orientation": "h",
         "type": "bar",
         "x": [
          0.06855930703534371,
          0.0755704084913609,
          0.0799873400843116,
          0.08644738486744366,
          0.18757914663039826
         ],
         "xaxis": "x3",
         "y": [
          "projet  ",
          "collaboration  ",
          "concertation  ",
          "travail  ",
          "temps  "
         ],
         "yaxis": "y3"
        },
        {
         "marker": {
          "color": "#E69F00"
         },
         "orientation": "h",
         "type": "bar",
         "x": [
          0.0708421671446897,
          0.0727282268729361,
          0.07443341557901396,
          0.11026073403377287,
          0.11760655588773608
         ],
         "xaxis": "x4",
         "y": [
          "aide  ",
          "point  ",
          "besoin  ",
          "ia  ",
          "utilisation  "
         ],
         "yaxis": "y4"
        },
        {
         "marker": {
          "color": "#56B4E9"
         },
         "orientation": "h",
         "type": "bar",
         "x": [
          0.04579452057662058,
          0.04637844274144534,
          0.05164795775140087,
          0.06723395170225144,
          0.08116227479752935
         ],
         "xaxis": "x5",
         "y": [
          "discipline  ",
          "échange  ",
          "collaboration  ",
          "collègue  ",
          "équipe  "
         ],
         "yaxis": "y5"
        },
        {
         "marker": {
          "color": "#009E73"
         },
         "orientation": "h",
         "type": "bar",
         "x": [
          0.04855317980072602,
          0.04855317980072602,
          0.048867392706016866,
          0.06089263920057902,
          0.1562982361549151
         ],
         "xaxis": "x6",
         "y": [
          "positif  ",
          "différencié  ",
          "besoin  ",
          "élève  ",
          "évaluation  "
         ],
         "yaxis": "y6"
        },
        {
         "marker": {
          "color": "#F0E442"
         },
         "orientation": "h",
         "type": "bar",
         "x": [
          0.061260319401833144,
          0.07117826586715918,
          0.07671946972195696,
          0.13652984052940167,
          0.26039633411114893
         ],
         "xaxis": "x7",
         "y": [
          "réactivation  ",
          "sortie  ",
          "langage  ",
          "langue  ",
          "anglais  "
         ],
         "yaxis": "y7"
        },
        {
         "marker": {
          "color": "#D55E00"
         },
         "orientation": "h",
         "type": "bar",
         "x": [
          0.1348816904906237,
          0.1348816904906237,
          0.20975242243064182,
          0.4868809234674753,
          0.5292645944311835
         ],
         "xaxis": "x8",
         "y": [
          "qualifiant  ",
          "module  ",
          "master  ",
          "présentiel  ",
          "formation  "
         ],
         "yaxis": "y8"
        },
        {
         "marker": {
          "color": "#0072B2"
         },
         "orientation": "h",
         "type": "bar",
         "x": [
          0.10305474291897163,
          0.10305474291897163,
          0.12400510175310664,
          0.13526090792256343,
          0.45294867335233885
         ],
         "xaxis": "x9",
         "y": [
          "produire  ",
          "écrit  ",
          "science  ",
          "inter  ",
          "cycle  "
         ],
         "yaxis": "y9"
        },
        {
         "marker": {
          "color": "#CC79A7"
         },
         "orientation": "h",
         "type": "bar",
         "x": [
          0.060407859670285786,
          0.07344941538447816,
          0.0735248595313456,
          0.07932991001676234,
          0.1313642338696103
         ],
         "xaxis": "x10",
         "y": [
          "pratique  ",
          "concret  ",
          "théorique  ",
          "poursuivre  ",
          "formation  "
         ],
         "yaxis": "y10"
        }
       ],
       "layout": {
        "annotations": [
         {
          "font": {
           "size": 16
          },
          "showarrow": false,
          "text": "Topic 0",
          "x": 0.0875,
          "xanchor": "center",
          "xref": "paper",
          "y": 1,
          "yanchor": "bottom",
          "yref": "paper"
         },
         {
          "font": {
           "size": 16
          },
          "showarrow": false,
          "text": "Topic 1",
          "x": 0.36250000000000004,
          "xanchor": "center",
          "xref": "paper",
          "y": 1,
          "yanchor": "bottom",
          "yref": "paper"
         },
         {
          "font": {
           "size": 16
          },
          "showarrow": false,
          "text": "Topic 2",
          "x": 0.6375000000000001,
          "xanchor": "center",
          "xref": "paper",
          "y": 1,
          "yanchor": "bottom",
          "yref": "paper"
         },
         {
          "font": {
           "size": 16
          },
          "showarrow": false,
          "text": "Topic 3",
          "x": 0.9125,
          "xanchor": "center",
          "xref": "paper",
          "y": 1,
          "yanchor": "bottom",
          "yref": "paper"
         },
         {
          "font": {
           "size": 16
          },
          "showarrow": false,
          "text": "Topic 4",
          "x": 0.0875,
          "xanchor": "center",
          "xref": "paper",
          "y": 0.6222222222222222,
          "yanchor": "bottom",
          "yref": "paper"
         },
         {
          "font": {
           "size": 16
          },
          "showarrow": false,
          "text": "Topic 5",
          "x": 0.36250000000000004,
          "xanchor": "center",
          "xref": "paper",
          "y": 0.6222222222222222,
          "yanchor": "bottom",
          "yref": "paper"
         },
         {
          "font": {
           "size": 16
          },
          "showarrow": false,
          "text": "Topic 6",
          "x": 0.6375000000000001,
          "xanchor": "center",
          "xref": "paper",
          "y": 0.6222222222222222,
          "yanchor": "bottom",
          "yref": "paper"
         },
         {
          "font": {
           "size": 16
          },
          "showarrow": false,
          "text": "Topic 7",
          "x": 0.9125,
          "xanchor": "center",
          "xref": "paper",
          "y": 0.6222222222222222,
          "yanchor": "bottom",
          "yref": "paper"
         },
         {
          "font": {
           "size": 16
          },
          "showarrow": false,
          "text": "Topic 8",
          "x": 0.0875,
          "xanchor": "center",
          "xref": "paper",
          "y": 0.24444444444444446,
          "yanchor": "bottom",
          "yref": "paper"
         },
         {
          "font": {
           "size": 16
          },
          "showarrow": false,
          "text": "Topic 9",
          "x": 0.36250000000000004,
          "xanchor": "center",
          "xref": "paper",
          "y": 0.24444444444444446,
          "yanchor": "bottom",
          "yref": "paper"
         }
        ],
        "height": 750,
        "hoverlabel": {
         "bgcolor": "white",
         "font": {
          "family": "Rockwell",
          "size": 16
         }
        },
        "showlegend": false,
        "template": {
         "data": {
          "bar": [
           {
            "error_x": {
             "color": "#2a3f5f"
            },
            "error_y": {
             "color": "#2a3f5f"
            },
            "marker": {
             "line": {
              "color": "white",
              "width": 0.5
             },
             "pattern": {
              "fillmode": "overlay",
              "size": 10,
              "solidity": 0.2
             }
            },
            "type": "bar"
           }
          ],
          "barpolar": [
           {
            "marker": {
             "line": {
              "color": "white",
              "width": 0.5
             },
             "pattern": {
              "fillmode": "overlay",
              "size": 10,
              "solidity": 0.2
             }
            },
            "type": "barpolar"
           }
          ],
          "carpet": [
           {
            "aaxis": {
             "endlinecolor": "#2a3f5f",
             "gridcolor": "#C8D4E3",
             "linecolor": "#C8D4E3",
             "minorgridcolor": "#C8D4E3",
             "startlinecolor": "#2a3f5f"
            },
            "baxis": {
             "endlinecolor": "#2a3f5f",
             "gridcolor": "#C8D4E3",
             "linecolor": "#C8D4E3",
             "minorgridcolor": "#C8D4E3",
             "startlinecolor": "#2a3f5f"
            },
            "type": "carpet"
           }
          ],
          "choropleth": [
           {
            "colorbar": {
             "outlinewidth": 0,
             "ticks": ""
            },
            "type": "choropleth"
           }
          ],
          "contour": [
           {
            "colorbar": {
             "outlinewidth": 0,
             "ticks": ""
            },
            "colorscale": [
             [
              0,
              "#0d0887"
             ],
             [
              0.1111111111111111,
              "#46039f"
             ],
             [
              0.2222222222222222,
              "#7201a8"
             ],
             [
              0.3333333333333333,
              "#9c179e"
             ],
             [
              0.4444444444444444,
              "#bd3786"
             ],
             [
              0.5555555555555556,
              "#d8576b"
             ],
             [
              0.6666666666666666,
              "#ed7953"
             ],
             [
              0.7777777777777778,
              "#fb9f3a"
             ],
             [
              0.8888888888888888,
              "#fdca26"
             ],
             [
              1,
              "#f0f921"
             ]
            ],
            "type": "contour"
           }
          ],
          "contourcarpet": [
           {
            "colorbar": {
             "outlinewidth": 0,
             "ticks": ""
            },
            "type": "contourcarpet"
           }
          ],
          "heatmap": [
           {
            "colorbar": {
             "outlinewidth": 0,
             "ticks": ""
            },
            "colorscale": [
             [
              0,
              "#0d0887"
             ],
             [
              0.1111111111111111,
              "#46039f"
             ],
             [
              0.2222222222222222,
              "#7201a8"
             ],
             [
              0.3333333333333333,
              "#9c179e"
             ],
             [
              0.4444444444444444,
              "#bd3786"
             ],
             [
              0.5555555555555556,
              "#d8576b"
             ],
             [
              0.6666666666666666,
              "#ed7953"
             ],
             [
              0.7777777777777778,
              "#fb9f3a"
             ],
             [
              0.8888888888888888,
              "#fdca26"
             ],
             [
              1,
              "#f0f921"
             ]
            ],
            "type": "heatmap"
           }
          ],
          "histogram": [
           {
            "marker": {
             "pattern": {
              "fillmode": "overlay",
              "size": 10,
              "solidity": 0.2
             }
            },
            "type": "histogram"
           }
          ],
          "histogram2d": [
           {
            "colorbar": {
             "outlinewidth": 0,
             "ticks": ""
            },
            "colorscale": [
             [
              0,
              "#0d0887"
             ],
             [
              0.1111111111111111,
              "#46039f"
             ],
             [
              0.2222222222222222,
              "#7201a8"
             ],
             [
              0.3333333333333333,
              "#9c179e"
             ],
             [
              0.4444444444444444,
              "#bd3786"
             ],
             [
              0.5555555555555556,
              "#d8576b"
             ],
             [
              0.6666666666666666,
              "#ed7953"
             ],
             [
              0.7777777777777778,
              "#fb9f3a"
             ],
             [
              0.8888888888888888,
              "#fdca26"
             ],
             [
              1,
              "#f0f921"
             ]
            ],
            "type": "histogram2d"
           }
          ],
          "histogram2dcontour": [
           {
            "colorbar": {
             "outlinewidth": 0,
             "ticks": ""
            },
            "colorscale": [
             [
              0,
              "#0d0887"
             ],
             [
              0.1111111111111111,
              "#46039f"
             ],
             [
              0.2222222222222222,
              "#7201a8"
             ],
             [
              0.3333333333333333,
              "#9c179e"
             ],
             [
              0.4444444444444444,
              "#bd3786"
             ],
             [
              0.5555555555555556,
              "#d8576b"
             ],
             [
              0.6666666666666666,
              "#ed7953"
             ],
             [
              0.7777777777777778,
              "#fb9f3a"
             ],
             [
              0.8888888888888888,
              "#fdca26"
             ],
             [
              1,
              "#f0f921"
             ]
            ],
            "type": "histogram2dcontour"
           }
          ],
          "mesh3d": [
           {
            "colorbar": {
             "outlinewidth": 0,
             "ticks": ""
            },
            "type": "mesh3d"
           }
          ],
          "parcoords": [
           {
            "line": {
             "colorbar": {
              "outlinewidth": 0,
              "ticks": ""
             }
            },
            "type": "parcoords"
           }
          ],
          "pie": [
           {
            "automargin": true,
            "type": "pie"
           }
          ],
          "scatter": [
           {
            "fillpattern": {
             "fillmode": "overlay",
             "size": 10,
             "solidity": 0.2
            },
            "type": "scatter"
           }
          ],
          "scatter3d": [
           {
            "line": {
             "colorbar": {
              "outlinewidth": 0,
              "ticks": ""
             }
            },
            "marker": {
             "colorbar": {
              "outlinewidth": 0,
              "ticks": ""
             }
            },
            "type": "scatter3d"
           }
          ],
          "scattercarpet": [
           {
            "marker": {
             "colorbar": {
              "outlinewidth": 0,
              "ticks": ""
             }
            },
            "type": "scattercarpet"
           }
          ],
          "scattergeo": [
           {
            "marker": {
             "colorbar": {
              "outlinewidth": 0,
              "ticks": ""
             }
            },
            "type": "scattergeo"
           }
          ],
          "scattergl": [
           {
            "marker": {
             "colorbar": {
              "outlinewidth": 0,
              "ticks": ""
             }
            },
            "type": "scattergl"
           }
          ],
          "scattermap": [
           {
            "marker": {
             "colorbar": {
              "outlinewidth": 0,
              "ticks": ""
             }
            },
            "type": "scattermap"
           }
          ],
          "scattermapbox": [
           {
            "marker": {
             "colorbar": {
              "outlinewidth": 0,
              "ticks": ""
             }
            },
            "type": "scattermapbox"
           }
          ],
          "scatterpolar": [
           {
            "marker": {
             "colorbar": {
              "outlinewidth": 0,
              "ticks": ""
             }
            },
            "type": "scatterpolar"
           }
          ],
          "scatterpolargl": [
           {
            "marker": {
             "colorbar": {
              "outlinewidth": 0,
              "ticks": ""
             }
            },
            "type": "scatterpolargl"
           }
          ],
          "scatterternary": [
           {
            "marker": {
             "colorbar": {
              "outlinewidth": 0,
              "ticks": ""
             }
            },
            "type": "scatterternary"
           }
          ],
          "surface": [
           {
            "colorbar": {
             "outlinewidth": 0,
             "ticks": ""
            },
            "colorscale": [
             [
              0,
              "#0d0887"
             ],
             [
              0.1111111111111111,
              "#46039f"
             ],
             [
              0.2222222222222222,
              "#7201a8"
             ],
             [
              0.3333333333333333,
              "#9c179e"
             ],
             [
              0.4444444444444444,
              "#bd3786"
             ],
             [
              0.5555555555555556,
              "#d8576b"
             ],
             [
              0.6666666666666666,
              "#ed7953"
             ],
             [
              0.7777777777777778,
              "#fb9f3a"
             ],
             [
              0.8888888888888888,
              "#fdca26"
             ],
             [
              1,
              "#f0f921"
             ]
            ],
            "type": "surface"
           }
          ],
          "table": [
           {
            "cells": {
             "fill": {
              "color": "#EBF0F8"
             },
             "line": {
              "color": "white"
             }
            },
            "header": {
             "fill": {
              "color": "#C8D4E3"
             },
             "line": {
              "color": "white"
             }
            },
            "type": "table"
           }
          ]
         },
         "layout": {
          "annotationdefaults": {
           "arrowcolor": "#2a3f5f",
           "arrowhead": 0,
           "arrowwidth": 1
          },
          "autotypenumbers": "strict",
          "coloraxis": {
           "colorbar": {
            "outlinewidth": 0,
            "ticks": ""
           }
          },
          "colorscale": {
           "diverging": [
            [
             0,
             "#8e0152"
            ],
            [
             0.1,
             "#c51b7d"
            ],
            [
             0.2,
             "#de77ae"
            ],
            [
             0.3,
             "#f1b6da"
            ],
            [
             0.4,
             "#fde0ef"
            ],
            [
             0.5,
             "#f7f7f7"
            ],
            [
             0.6,
             "#e6f5d0"
            ],
            [
             0.7,
             "#b8e186"
            ],
            [
             0.8,
             "#7fbc41"
            ],
            [
             0.9,
             "#4d9221"
            ],
            [
             1,
             "#276419"
            ]
           ],
           "sequential": [
            [
             0,
             "#0d0887"
            ],
            [
             0.1111111111111111,
             "#46039f"
            ],
            [
             0.2222222222222222,
             "#7201a8"
            ],
            [
             0.3333333333333333,
             "#9c179e"
            ],
            [
             0.4444444444444444,
             "#bd3786"
            ],
            [
             0.5555555555555556,
             "#d8576b"
            ],
            [
             0.6666666666666666,
             "#ed7953"
            ],
            [
             0.7777777777777778,
             "#fb9f3a"
            ],
            [
             0.8888888888888888,
             "#fdca26"
            ],
            [
             1,
             "#f0f921"
            ]
           ],
           "sequentialminus": [
            [
             0,
             "#0d0887"
            ],
            [
             0.1111111111111111,
             "#46039f"
            ],
            [
             0.2222222222222222,
             "#7201a8"
            ],
            [
             0.3333333333333333,
             "#9c179e"
            ],
            [
             0.4444444444444444,
             "#bd3786"
            ],
            [
             0.5555555555555556,
             "#d8576b"
            ],
            [
             0.6666666666666666,
             "#ed7953"
            ],
            [
             0.7777777777777778,
             "#fb9f3a"
            ],
            [
             0.8888888888888888,
             "#fdca26"
            ],
            [
             1,
             "#f0f921"
            ]
           ]
          },
          "colorway": [
           "#636efa",
           "#EF553B",
           "#00cc96",
           "#ab63fa",
           "#FFA15A",
           "#19d3f3",
           "#FF6692",
           "#B6E880",
           "#FF97FF",
           "#FECB52"
          ],
          "font": {
           "color": "#2a3f5f"
          },
          "geo": {
           "bgcolor": "white",
           "lakecolor": "white",
           "landcolor": "white",
           "showlakes": true,
           "showland": true,
           "subunitcolor": "#C8D4E3"
          },
          "hoverlabel": {
           "align": "left"
          },
          "hovermode": "closest",
          "mapbox": {
           "style": "light"
          },
          "paper_bgcolor": "white",
          "plot_bgcolor": "white",
          "polar": {
           "angularaxis": {
            "gridcolor": "#EBF0F8",
            "linecolor": "#EBF0F8",
            "ticks": ""
           },
           "bgcolor": "white",
           "radialaxis": {
            "gridcolor": "#EBF0F8",
            "linecolor": "#EBF0F8",
            "ticks": ""
           }
          },
          "scene": {
           "xaxis": {
            "backgroundcolor": "white",
            "gridcolor": "#DFE8F3",
            "gridwidth": 2,
            "linecolor": "#EBF0F8",
            "showbackground": true,
            "ticks": "",
            "zerolinecolor": "#EBF0F8"
           },
           "yaxis": {
            "backgroundcolor": "white",
            "gridcolor": "#DFE8F3",
            "gridwidth": 2,
            "linecolor": "#EBF0F8",
            "showbackground": true,
            "ticks": "",
            "zerolinecolor": "#EBF0F8"
           },
           "zaxis": {
            "backgroundcolor": "white",
            "gridcolor": "#DFE8F3",
            "gridwidth": 2,
            "linecolor": "#EBF0F8",
            "showbackground": true,
            "ticks": "",
            "zerolinecolor": "#EBF0F8"
           }
          },
          "shapedefaults": {
           "line": {
            "color": "#2a3f5f"
           }
          },
          "ternary": {
           "aaxis": {
            "gridcolor": "#DFE8F3",
            "linecolor": "#A2B1C6",
            "ticks": ""
           },
           "baxis": {
            "gridcolor": "#DFE8F3",
            "linecolor": "#A2B1C6",
            "ticks": ""
           },
           "bgcolor": "white",
           "caxis": {
            "gridcolor": "#DFE8F3",
            "linecolor": "#A2B1C6",
            "ticks": ""
           }
          },
          "title": {
           "x": 0.05
          },
          "xaxis": {
           "automargin": true,
           "gridcolor": "#EBF0F8",
           "linecolor": "#EBF0F8",
           "ticks": "",
           "title": {
            "standoff": 15
           },
           "zerolinecolor": "#EBF0F8",
           "zerolinewidth": 2
          },
          "yaxis": {
           "automargin": true,
           "gridcolor": "#EBF0F8",
           "linecolor": "#EBF0F8",
           "ticks": "",
           "title": {
            "standoff": 15
           },
           "zerolinecolor": "#EBF0F8",
           "zerolinewidth": 2
          }
         }
        },
        "title": {
         "font": {
          "color": "Black",
          "size": 22
         },
         "text": "Topic Word Scores",
         "x": 0.5,
         "xanchor": "center",
         "yanchor": "top"
        },
        "width": 1000,
        "xaxis": {
         "anchor": "y",
         "domain": [
          0,
          0.175
         ],
         "showgrid": true
        },
        "xaxis10": {
         "anchor": "y10",
         "domain": [
          0.275,
          0.45
         ],
         "showgrid": true
        },
        "xaxis11": {
         "anchor": "y11",
         "domain": [
          0.55,
          0.7250000000000001
         ],
         "showgrid": true
        },
        "xaxis12": {
         "anchor": "y12",
         "domain": [
          0.825,
          1
         ],
         "showgrid": true
        },
        "xaxis2": {
         "anchor": "y2",
         "domain": [
          0.275,
          0.45
         ],
         "showgrid": true
        },
        "xaxis3": {
         "anchor": "y3",
         "domain": [
          0.55,
          0.7250000000000001
         ],
         "showgrid": true
        },
        "xaxis4": {
         "anchor": "y4",
         "domain": [
          0.825,
          1
         ],
         "showgrid": true
        },
        "xaxis5": {
         "anchor": "y5",
         "domain": [
          0,
          0.175
         ],
         "showgrid": true
        },
        "xaxis6": {
         "anchor": "y6",
         "domain": [
          0.275,
          0.45
         ],
         "showgrid": true
        },
        "xaxis7": {
         "anchor": "y7",
         "domain": [
          0.55,
          0.7250000000000001
         ],
         "showgrid": true
        },
        "xaxis8": {
         "anchor": "y8",
         "domain": [
          0.825,
          1
         ],
         "showgrid": true
        },
        "xaxis9": {
         "anchor": "y9",
         "domain": [
          0,
          0.175
         ],
         "showgrid": true
        },
        "yaxis": {
         "anchor": "x",
         "domain": [
          0.7555555555555555,
          1
         ],
         "showgrid": true
        },
        "yaxis10": {
         "anchor": "x10",
         "domain": [
          0,
          0.24444444444444446
         ],
         "showgrid": true
        },
        "yaxis11": {
         "anchor": "x11",
         "domain": [
          0,
          0.24444444444444446
         ],
         "showgrid": true
        },
        "yaxis12": {
         "anchor": "x12",
         "domain": [
          0,
          0.24444444444444446
         ],
         "showgrid": true
        },
        "yaxis2": {
         "anchor": "x2",
         "domain": [
          0.7555555555555555,
          1
         ],
         "showgrid": true
        },
        "yaxis3": {
         "anchor": "x3",
         "domain": [
          0.7555555555555555,
          1
         ],
         "showgrid": true
        },
        "yaxis4": {
         "anchor": "x4",
         "domain": [
          0.7555555555555555,
          1
         ],
         "showgrid": true
        },
        "yaxis5": {
         "anchor": "x5",
         "domain": [
          0.37777777777777777,
          0.6222222222222222
         ],
         "showgrid": true
        },
        "yaxis6": {
         "anchor": "x6",
         "domain": [
          0.37777777777777777,
          0.6222222222222222
         ],
         "showgrid": true
        },
        "yaxis7": {
         "anchor": "x7",
         "domain": [
          0.37777777777777777,
          0.6222222222222222
         ],
         "showgrid": true
        },
        "yaxis8": {
         "anchor": "x8",
         "domain": [
          0.37777777777777777,
          0.6222222222222222
         ],
         "showgrid": true
        },
        "yaxis9": {
         "anchor": "x9",
         "domain": [
          0,
          0.24444444444444446
         ],
         "showgrid": true
        }
       }
      }
     },
     "metadata": {},
     "output_type": "display_data"
    }
   ],
   "source": [
    "# --- 1. Imports\n",
    "import os\n",
    "import pandas as pd\n",
    "from bertopic import BERTopic\n",
    "from sentence_transformers import SentenceTransformer\n",
    "from sklearn.feature_extraction.text import CountVectorizer\n",
    "import spacy\n",
    "from spacy.lang.fr.stop_words import STOP_WORDS\n",
    "\n",
    "# --- 2. Configuration (supprime le warning tokenizers)\n",
    "os.environ[\"TOKENIZERS_PARALLELISM\"] = \"false\"\n",
    "\n",
    "# --- 3. Charger modèle spaCy français\n",
    "nlp = spacy.load(\"fr_core_news_md\")\n",
    "\n",
    "# Ajouter des mots personnalisés à la liste de stopwords\n",
    "custom_stopwords = {\n",
    "    \"de\", \"des\", \"et\", \"les\", \"la\", \"le\", \"en\", \"un\", \"une\", \"du\", \"au\", \"aux\",\n",
    "    \"pour\", \"par\", \"avec\", \"dans\", \"sur\", \"sous\", \"entre\", \"chez\", \"comme\",\n",
    "    \"ou\", \"mais\", \"donc\", \"or\", \"ni\", \"car\", \"que\", \"qu\", \"qui\", \"quoi\", \"dont\",\n",
    "    \"cela\", \"ce\", \"cette\", \"ces\", \"ça\", \"c'\", \"il\", \"elle\", \"ils\", \"elles\", \"on\",\n",
    "    \"je\", \"tu\", \"nous\", \"vous\", \"leur\", \"leurs\", \"mon\", \"ton\", \"son\", \"ma\", \"ta\",\n",
    "    \"sa\", \"mes\", \"tes\", \"ses\", \"nos\", \"vos\", \"être\", \"avoir\", \"fait\", \"faire\",\n",
    "    \"plus\", \"moins\", \"très\", \"trop\", \"encore\", \"déjà\", \"aussi\", \"autre\", \"autres\",\n",
    "    \"peu\", \"beaucoup\", \"jamais\", \"toujours\", \"souvent\", \"rarement\", \"fois\",\n",
    "    \"ex\", \"exemple\", \"type\", \"via\", \"afin\", \"lors\", \"pendant\", \"vers\", \"ainsi\",\n",
    "    \"donc\", \"alors\", \"bien\", \"mal\", \"dès\", \"tout\", \"tous\", \"toutes\", \"aucun\",\n",
    "    \"aucune\", \"chaque\", \"certains\", \"certaines\", \"aucuns\", \"différents\",\n",
    "    \"divers\", \"quelque\", \"quelques\", \"quel\", \"quelle\", \"quels\", \"quelles\",\n",
    "    \"tel\", \"telle\", \"tels\", \"telles\", \"ex.\", \"etc\",\"tsa\",\"ai\",'élève',\n",
    "}\n",
    "\n",
    "# Ajout à la liste spaCy (global)\n",
    "STOP_WORDS |= custom_stopwords\n",
    "\n",
    "# --- 4. Lemmatisation + nettoyage\n",
    "def preprocess_text(text):\n",
    "    doc = nlp(text.lower())\n",
    "    lemmes = [\n",
    "        token.lemma_\n",
    "        for token in doc\n",
    "        if token.lemma_ not in STOP_WORDS and not token.is_punct and not token.is_space\n",
    "    ]\n",
    "    return \" \".join(lemmes)\n",
    "\n",
    "# --- 5. Chargement et nettoyage de df_besoins\n",
    "df_text_only = df_besoins[df_besoins[\"categorie_besoin\"].isna()].copy()\n",
    "df_text_only[\"besoin_brut\"] = df_text_only[\"besoin_brut\"].astype(str).str.strip()\n",
    "df_text_only = df_text_only[df_text_only[\"besoin_brut\"].str.len() > 5]\n",
    "\n",
    "# --- 6. Lemmatisation\n",
    "besoins_textuels = df_text_only[\"besoin_brut\"].tolist()\n",
    "besoins_lemmatise = [preprocess_text(txt) for txt in besoins_textuels]\n",
    "\n",
    "# --- 7. Embedding + Vectorizer\n",
    "embedding_model = SentenceTransformer(\"paraphrase-multilingual-MiniLM-L12-v2\")\n",
    "\n",
    "# Pas besoin de stopwords supplémentaires : spaCy les a déjà supprimés\n",
    "vectorizer_model = CountVectorizer()\n",
    "\n",
    "# --- 8. Initialisation du modèle BERTopic\n",
    "topic_model = BERTopic(\n",
    "    embedding_model=embedding_model,\n",
    "    language=\"french\",\n",
    "    vectorizer_model=vectorizer_model\n",
    ")\n",
    "\n",
    "# --- 9. Entraînement\n",
    "topics, probs = topic_model.fit_transform(besoins_lemmatise)\n",
    "\n",
    "# --- 10. Affichage résumé des topics\n",
    "df_topics = topic_model.get_topic_info()\n",
    "print(df_topics.head(10))\n",
    "\n",
    "# --- 11. Visualisation (si topics détectés)\n",
    "if len(df_topics) > 2:\n",
    "    topic_model.visualize_barchart(top_n_topics=10).show()\n",
    "else:\n",
    "    print(\"❗ Pas assez de topics pour visualiser.\")\n",
    "\n",
    "# --- 12. Fusion des résultats\n",
    "df_resultats = pd.DataFrame({\n",
    "    \"enseignant_uid\": df_text_only[\"enseignant_uid\"].tolist(),\n",
    "    \"question_source\": df_text_only[\"question_source\"].tolist(),\n",
    "    \"besoin_brut\": besoins_textuels,\n",
    "    \"besoin_lemmatise\": besoins_lemmatise,\n",
    "    \"topic\": topics\n",
    "})\n"
   ]
  },
  {
   "cell_type": "code",
   "execution_count": 27,
   "metadata": {},
   "outputs": [
    {
     "data": {
      "application/vnd.jupyter.widget-view+json": {
       "model_id": "897b69e670244232a866d9f59cdedb9a",
       "version_major": 2,
       "version_minor": 0
      },
      "text/plain": [
       "Batches:   0%|          | 0/5 [00:00<?, ?it/s]"
      ]
     },
     "metadata": {},
     "output_type": "display_data"
    },
    {
     "name": "stdout",
     "output_type": "stream",
     "text": [
      "   Topic  Count                                   Name  \\\n",
      "0     -1      9      -1_autres_chimie_physique_projets   \n",
      "1      0     11        0_diversité_de_culturelle_leurs   \n",
      "2      1      8     1_scratch_concrète_répétée_groupes   \n",
      "3      2      8         2_arabe_langue_arabophones_non   \n",
      "4      3      8  3_expérience_présentiel_ces_formation   \n",
      "5      4      7  4_neurosciences_former_sciences_neuro   \n",
      "6      5      6                      5_book_and_the_to   \n",
      "7      6      6          6_elea_accompagnement_ebep_ia   \n",
      "8      7      6       7_grilles_équipe_supports_besoin   \n",
      "9      8      6                  8_ex_mener_pas_outils   \n",
      "\n",
      "                                      Representation  \\\n",
      "0  [autres, chimie, physique, projets, un, davant...   \n",
      "1  [diversité, de, culturelle, leurs, la, et, bes...   \n",
      "2  [scratch, concrète, répétée, groupes, ensuite,...   \n",
      "3  [arabe, langue, arabophones, non, élèves, pap,...   \n",
      "4  [expérience, présentiel, ces, formation, forma...   \n",
      "5  [neurosciences, former, sciences, neuro, ensei...   \n",
      "6  [book, and, the, to, work, pour, them, student...   \n",
      "7  [elea, accompagnement, ebep, ia, nouvelle, dos...   \n",
      "8  [grilles, équipe, supports, besoin, travail, é...   \n",
      "9  [ex, mener, pas, outils, mais, classe, ai, fic...   \n",
      "\n",
      "                                 Representative_Docs  \n",
      "0  [les séances pluri-disciplinaires je fais pas ...  \n",
      "1  [il est essentiel que je continue à développer...  \n",
      "2  [formation a scratch pour ensuite le proposer ...  \n",
      "3  [des formations continue  en maternelle\\nl'acc...  \n",
      "4  [plus de formations en présentiel en lien avec...  \n",
      "5  [l'approche des sciences en cycle 1 , la const...  \n",
      "6  [d'un matériel informatique en parfait état de...  \n",
      "7  [rester en phase avec tous les nouveaux outils...  \n",
      "8  [en eps, le travail d'équipe est efficace, les...  \n",
      "9  [je ne sais pas je n'ai pas de difficultés à c...  \n"
     ]
    }
   ],
   "source": [
    "df_topic_minus1 = df_resultats[df_resultats[\"topic\"] == -1]\n",
    "\n",
    "\n",
    "from bertopic import BERTopic\n",
    "from sentence_transformers import SentenceTransformer\n",
    "from hdbscan import HDBSCAN\n",
    "\n",
    "besoins_brut_topic_minus1 = df_topic_minus1[\"besoin_brut\"].tolist()\n",
    "\n",
    "# Embedding\n",
    "embedding_model = SentenceTransformer(\"paraphrase-multilingual-MiniLM-L12-v2\")\n",
    "embeddings = embedding_model.encode(besoins_brut_topic_minus1, show_progress_bar=True)\n",
    "\n",
    "# Modèle plus tolérant\n",
    "sub_topic_model = BERTopic(\n",
    "    embedding_model=embedding_model,\n",
    "    language=\"french\",\n",
    "    hdbscan_model=HDBSCAN(min_cluster_size=3, min_samples=1)\n",
    ")\n",
    "\n",
    "sub_topics, _ = sub_topic_model.fit_transform(besoins_brut_topic_minus1, embeddings)\n",
    "\n",
    "\n",
    "df_sub_topics = sub_topic_model.get_topic_info()\n",
    "print(df_sub_topics.head(10))  # pour voir les 10 premiers\n"
   ]
  },
  {
   "cell_type": "code",
   "execution_count": null,
   "metadata": {},
   "outputs": [],
   "source": []
  },
  {
   "cell_type": "code",
   "execution_count": 28,
   "metadata": {},
   "outputs": [],
   "source": [
    "import pandas as pd\n",
    "from pathlib import Path\n",
    "\n",
    "# Chemins\n",
    "PROJECT_ROOT = Path(\"..\").resolve()\n",
    "DATA_PROCESSED = PROJECT_ROOT / \"data\" / \"processed\"\n",
    "DATA_OUTPUTS = PROJECT_ROOT / \"data\" / \"outputs\"\n",
    "\n",
    "# Chargement\n",
    "df = pd.read_csv(DATA_PROCESSED / \"processed_data.csv\")\n",
    "\n",
    "# Réponses ouvertes\n",
    "besoin_text_cols = [\n",
    "    \"amelioration_pratiques\", \"besoins_aide_evaluation\", \"besoins_diversite_classe\",\n",
    "    \"besoins_competence_numerique\", \"renforcement_collaboration\",\n",
    "    \"preference_accompagnement\", \"besoin_dev_professionnel\"\n",
    "]\n",
    "\n",
    "df_text = df[[\"enseignant_uid\"] + besoin_text_cols].melt(\n",
    "    id_vars=\"enseignant_uid\", var_name=\"question_source\", value_name=\"besoin_brut\"\n",
    ")\n",
    "df_text[\"besoin_brut\"] = df_text[\"besoin_brut\"].astype(str).str.strip()\n",
    "df_text = df_text[df_text[\"besoin_brut\"] != \"\"]\n",
    "df_text[\"categorie_besoin\"] = None\n",
    "\n",
    "# Réponses \"besoin fort\" (questions fermées MLF)\n",
    "besoin_mlf_cols = [\n",
    "    \"besoin_formation_plurilingue\", \"besoin_formation_transversales\",\n",
    "    \"besoin_formation_maternelle\", \"besoin_formation_orientation\", \"besoin_formation_stiam\"\n",
    "]\n",
    "\n",
    "df_mlf = df[[\"enseignant_uid\"] + besoin_mlf_cols].melt(\n",
    "    id_vars=\"enseignant_uid\", var_name=\"question_source\", value_name=\"besoin_brut\"\n",
    ")\n",
    "df_mlf = df_mlf[df_mlf[\"besoin_brut\"] == \"besoin fort\"]\n",
    "df_mlf[\"categorie_besoin\"] = df_mlf[\"question_source\"].str.replace(\"besoin_formation_\", \"\", regex=False).str.lower()\n",
    "\n",
    "# Fusion\n",
    "df_besoins = pd.concat([df_text, df_mlf], ignore_index=True)\n",
    "df_besoins.to_csv(DATA_OUTPUTS / \"df_besoins.csv\", index=False)\n"
   ]
  },
  {
   "cell_type": "code",
   "execution_count": 29,
   "metadata": {},
   "outputs": [],
   "source": [
    "import spacy\n",
    "from spacy.lang.fr.stop_words import STOP_WORDS\n",
    "\n",
    "# Stopwords personnalisés\n",
    "# Ajouter des mots personnalisés à la liste de stopwords\n",
    "custom_stopwords = {\n",
    "    \"de\", \"des\", \"et\", \"les\", \"la\", \"le\", \"en\", \"un\", \"une\", \"du\", \"au\", \"aux\",\n",
    "    \"pour\", \"par\", \"avec\", \"dans\", \"sur\", \"sous\", \"entre\", \"chez\", \"comme\",\n",
    "    \"ou\", \"mais\", \"donc\", \"or\", \"ni\", \"car\", \"que\", \"qu\", \"qui\", \"quoi\", \"dont\",\n",
    "    \"cela\", \"ce\", \"cette\", \"ces\", \"ça\", \"c'\", \"il\", \"elle\", \"ils\", \"elles\", \"on\",\n",
    "    \"je\", \"tu\", \"nous\", \"vous\", \"leur\", \"leurs\", \"mon\", \"ton\", \"son\", \"ma\", \"ta\",\n",
    "    \"sa\", \"mes\", \"tes\", \"ses\", \"nos\", \"vos\", \"être\", \"avoir\", \"fait\", \"faire\",\n",
    "    \"plus\", \"moins\", \"très\", \"trop\", \"encore\", \"déjà\", \"aussi\", \"autre\", \"autres\",\n",
    "    \"peu\", \"beaucoup\", \"jamais\", \"toujours\", \"souvent\", \"rarement\", \"fois\",\n",
    "    \"ex\", \"exemple\", \"type\", \"via\", \"afin\", \"lors\", \"pendant\", \"vers\", \"ainsi\",\n",
    "    \"donc\", \"alors\", \"bien\", \"mal\", \"dès\", \"tout\", \"tous\", \"toutes\", \"aucun\",\n",
    "    \"aucune\", \"chaque\", \"certains\", \"certaines\", \"aucuns\", \"différents\",\n",
    "    \"divers\", \"quelque\", \"quelques\", \"quel\", \"quelle\", \"quels\", \"quelles\",\n",
    "    \"tel\", \"telle\", \"tels\", \"telles\", \"ex.\", \"etc\",\"tsa\",\"ai\",'élève',\n",
    "}\n",
    "\n",
    "# Ajout à la liste spaCy (global)\n",
    "STOP_WORDS |= custom_stopwords\n",
    "\n",
    "nlp = spacy.load(\"fr_core_news_md\")\n",
    "\n",
    "def preprocess_text(text):\n",
    "    doc = nlp(text.lower())\n",
    "    return \" \".join([\n",
    "        token.lemma_\n",
    "        for token in doc\n",
    "        if token.lemma_ not in STOP_WORDS and not token.is_punct and not token.is_space\n",
    "    ])\n"
   ]
  },
  {
   "cell_type": "code",
   "execution_count": 30,
   "metadata": {},
   "outputs": [],
   "source": [
    "from bertopic import BERTopic\n",
    "from sentence_transformers import SentenceTransformer\n",
    "from sklearn.feature_extraction.text import CountVectorizer\n",
    "\n",
    "df_text_only = df_besoins[df_besoins[\"categorie_besoin\"].isna()].copy()\n",
    "df_text_only = df_text_only[df_text_only[\"besoin_brut\"].str.len() > 5]\n",
    "\n",
    "besoins_brut = df_text_only[\"besoin_brut\"].tolist()\n",
    "besoins_lemmatise = [preprocess_text(txt) for txt in besoins_brut]\n",
    "\n",
    "embedding_model = SentenceTransformer(\"paraphrase-multilingual-MiniLM-L12-v2\")\n",
    "vectorizer_model = CountVectorizer()\n",
    "\n",
    "topic_model = BERTopic(\n",
    "    embedding_model=embedding_model,\n",
    "    language=\"french\",\n",
    "    vectorizer_model=vectorizer_model\n",
    ")\n",
    "\n",
    "topics, _ = topic_model.fit_transform(besoins_lemmatise)\n",
    "\n",
    "df_resultats = pd.DataFrame({\n",
    "    \"enseignant_uid\": df_text_only[\"enseignant_uid\"].tolist(),\n",
    "    \"question_source\": df_text_only[\"question_source\"].tolist(),\n",
    "    \"besoin_brut\": besoins_brut,\n",
    "    \"besoin_lemmatise\": besoins_lemmatise,\n",
    "    \"topic\": topics\n",
    "})\n"
   ]
  },
  {
   "cell_type": "code",
   "execution_count": 31,
   "metadata": {},
   "outputs": [],
   "source": [
    "from hdbscan import HDBSCAN\n",
    "\n",
    "df_topic_minus1 = df_resultats[df_resultats[\"topic\"] == -1].copy()\n",
    "besoins_minus1 = df_topic_minus1[\"besoin_brut\"].tolist()\n",
    "embeddings_minus1 = embedding_model.encode(besoins_minus1)\n",
    "\n",
    "sub_topic_model = BERTopic(\n",
    "    embedding_model=embedding_model,\n",
    "    language=\"french\",\n",
    "    hdbscan_model=HDBSCAN(min_cluster_size=3, min_samples=1)\n",
    ")\n",
    "\n",
    "sub_topics, _ = sub_topic_model.fit_transform(besoins_minus1, embeddings_minus1)\n",
    "\n",
    "df_topic_minus1[\"sub_topic\"] = sub_topics\n",
    "topic_offset = topic_model.get_topic_info()[\"Topic\"].max() + 1\n",
    "df_topic_minus1[\"topic\"] = df_topic_minus1[\"sub_topic\"].apply(lambda x: x + topic_offset if x != -1 else -1)\n"
   ]
  },
  {
   "cell_type": "code",
   "execution_count": 34,
   "metadata": {},
   "outputs": [],
   "source": [
    "df_resultats_main = df_resultats[df_resultats[\"topic\"] != -1]\n",
    "df_resultats_sub = df_topic_minus1[df_topic_minus1[\"topic\"] != -1]\n",
    "\n",
    "df_resultats_all = pd.concat([df_resultats_main, df_resultats_sub], ignore_index=True)\n",
    "\n",
    "df_profils = df_resultats_all.groupby(\"enseignant_uid\")[\"topic\"].unique().reset_index()\n",
    "df_profils.columns = [\"enseignant_uid\", \"topics_exprimes\"]\n",
    "\n",
    "df_profils = df_profils.merge(\n",
    "    df[[\"enseignant_uid\", \"etablissement\"]],\n",
    "    on=\"enseignant_uid\",\n",
    "    how=\"left\"\n",
    ")\n"
   ]
  },
  {
   "cell_type": "code",
   "execution_count": 35,
   "metadata": {},
   "outputs": [],
   "source": [
    "df_topics_main = topic_model.get_topic_info().query(\"Topic != -1\")\n",
    "df_topics_sub = sub_topic_model.get_topic_info().query(\"Topic != -1\")\n",
    "df_topics_sub[\"Topic\"] = df_topics_sub[\"Topic\"] + topic_offset\n",
    "\n",
    "df_themes = pd.concat([\n",
    "    df_topics_main[[\"Topic\", \"Name\", \"Count\", \"Representative_Docs\"]],\n",
    "    df_topics_sub[[\"Topic\", \"Name\", \"Count\", \"Representative_Docs\"]]\n",
    "], ignore_index=True)\n",
    "\n",
    "df_themes.columns = [\"theme_id\", \"theme_nom\", \"nb_reponses\", \"exemples\"]\n"
   ]
  },
  {
   "cell_type": "code",
   "execution_count": null,
   "metadata": {},
   "outputs": [],
   "source": [
    "df_topics_main = topic_model.get_topic_info().query(\"Topic != -1\")\n",
    "df_topics_sub = sub_topic_model.get_topic_info().query(\"Topic != -1\")\n",
    "df_topics_sub[\"Topic\"] = df_topics_sub[\"Topic\"] + topic_offset\n",
    "\n",
    "df_themes = pd.concat([\n",
    "    df_topics_main[[\"Topic\", \"Name\", \"Count\", \"Representative_Docs\"]],\n",
    "    df_topics_sub[[\"Topic\", \"Name\", \"Count\", \"Representative_Docs\"]]\n",
    "], ignore_index=True)\n",
    "\n",
    "df_themes.columns = [\"theme_id\", \"theme_nom\", \"nb_reponses\", \"exemples\"]\n"
   ]
  },
  {
   "cell_type": "code",
   "execution_count": 38,
   "metadata": {},
   "outputs": [],
   "source": [
    "from pathlib import Path\n",
    "\n",
    "# Chemins relatifs depuis un notebook dans `notebooks/`\n",
    "PROJECT_ROOT = Path(\"..\").resolve()\n",
    "DATA_OUTPUTS = PROJECT_ROOT / \"data\" / \"outputs\"\n",
    "\n",
    "# Sauvegardes\n",
    "df_themes.to_csv(DATA_OUTPUTS / \"plan_formation_themes.csv\", index=False)\n",
    "df_resultats_all.to_csv(DATA_OUTPUTS / \"reponses_par_topic.csv\", index=False)\n",
    "df_profils.to_csv(DATA_OUTPUTS / \"enseignants_par_theme.csv\", index=False)\n"
   ]
  }
 ],
 "metadata": {
  "kernelspec": {
   "display_name": "remontee_besoins",
   "language": "python",
   "name": "python3"
  },
  "language_info": {
   "codemirror_mode": {
    "name": "ipython",
    "version": 3
   },
   "file_extension": ".py",
   "mimetype": "text/x-python",
   "name": "python",
   "nbconvert_exporter": "python",
   "pygments_lexer": "ipython3",
   "version": "3.10.6"
  }
 },
 "nbformat": 4,
 "nbformat_minor": 2
}
